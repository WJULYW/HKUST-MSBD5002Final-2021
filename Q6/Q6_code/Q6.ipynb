{
 "cells": [
  {
   "cell_type": "code",
   "execution_count": 11,
   "metadata": {
    "colab": {
     "base_uri": "https://localhost:8080/"
    },
    "executionInfo": {
     "elapsed": 18490,
     "status": "ok",
     "timestamp": 1639343841300,
     "user": {
      "displayName": "AB Z",
      "photoUrl": "https://lh3.googleusercontent.com/a/default-user=s64",
      "userId": "05269874466697670367"
     },
     "user_tz": -480
    },
    "id": "UVeqPkZUqHkw",
    "outputId": "0e4a09b1-842f-49b0-8e07-4b657457ca02"
   },
   "outputs": [
    {
     "name": "stdout",
     "output_type": "stream",
     "text": [
      "Mounted at /content/gdrive\n"
     ]
    }
   ],
   "source": [
    "'''\n",
    "from google.colab import drive\n",
    "drive.mount('/content/gdrive')'''"
   ]
  },
  {
   "cell_type": "code",
   "execution_count": 12,
   "metadata": {
    "colab": {
     "base_uri": "https://localhost:8080/"
    },
    "executionInfo": {
     "elapsed": 12,
     "status": "ok",
     "timestamp": 1639343841301,
     "user": {
      "displayName": "AB Z",
      "photoUrl": "https://lh3.googleusercontent.com/a/default-user=s64",
      "userId": "05269874466697670367"
     },
     "user_tz": -480
    },
    "id": "mGVqSIDMqdK2",
    "outputId": "da592176-b907-470b-9269-f8b72eabc750"
   },
   "outputs": [
    {
     "data": {
      "text/plain": [
       "['net_config (6).cpython-37.pyc',\n",
       " '.ipynb_checkpoints',\n",
       " 'net_config (5).cpython-37.pyc',\n",
       " 'EnsembleModel (1).cpython-37.pyc',\n",
       " 'net_config (4).cpython-37.pyc',\n",
       " 'EnsembleModel.cpython-37.pyc',\n",
       " 'net_config (3).cpython-37.pyc',\n",
       " 'seqGAN',\n",
       " 'ML_dialogue',\n",
       " 'seqGAN_tran.ipynb',\n",
       " '6000J',\n",
       " '5002',\n",
       " '5012',\n",
       " 'exam5003',\n",
       " 'net_config (2).cpython-37.pyc',\n",
       " 'MultiLabelTextClassification',\n",
       " 'net_config (1).cpython-37.pyc',\n",
       " 'net_config.cpython-37.pyc',\n",
       " 'MAAL.ipynb',\n",
       " '5002final',\n",
       " 'MSBD5002_Fall2021_Final_Data',\n",
       " 'processed_text.csv']"
      ]
     },
     "execution_count": 12,
     "metadata": {},
     "output_type": "execute_result"
    }
   ],
   "source": [
    "'''\n",
    "import os\n",
    "path=\"/content/gdrive/My Drive\"\n",
    "os.chdir(path)\n",
    "os.listdir(path)'''"
   ]
  },
  {
   "cell_type": "code",
   "execution_count": 1,
   "metadata": {
    "colab": {
     "base_uri": "https://localhost:8080/"
    },
    "executionInfo": {
     "elapsed": 7665,
     "status": "ok",
     "timestamp": 1639343716124,
     "user": {
      "displayName": "AB Z",
      "photoUrl": "https://lh3.googleusercontent.com/a/default-user=s64",
      "userId": "05269874466697670367"
     },
     "user_tz": -480
    },
    "id": "EVfUDC_1qnqi",
    "outputId": "644eaa5c-336f-407d-d223-1caeb8b82b10"
   },
   "outputs": [
    {
     "name": "stdout",
     "output_type": "stream",
     "text": [
      "[nltk_data] Downloading package stopwords to /root/nltk_data...\n",
      "[nltk_data]   Unzipping corpora/stopwords.zip.\n"
     ]
    }
   ],
   "source": [
    "import warnings\n",
    "warnings.filterwarnings('ignore')\n",
    "import numpy as np\n",
    "import pandas as pd\n",
    "import math\n",
    "import matplotlib.pyplot as plt\n",
    "from sklearn.model_selection import train_test_split,GridSearchCV\n",
    "from sklearn.metrics import classification_report\n",
    "from sklearn.model_selection import KFold, cross_val_score as CVS, train_test_split\n",
    "from sklearn.impute import SimpleImputer, KNNImputer\n",
    "from sklearn import preprocessing\n",
    "import datetime\n",
    "from dateutil.parser import parse \n",
    "import pytz \n",
    "from sklearn.metrics import classification_report, confusion_matrix, plot_confusion_matrix, accuracy_score ,roc_curve, auc, roc_auc_score\n",
    "import torch\n",
    "import torch.nn as nn\n",
    "import torch.nn.functional as F\n",
    "from torch.utils.data import Dataset, DataLoader\n",
    "from torch.autograd import Variable\n",
    "\n",
    "import csv\n",
    "import nltk\n",
    "nltk.download('stopwords')\n",
    "import pickle\n",
    "from torch import multiprocessing\n",
    "from sklearn.preprocessing import MultiLabelBinarizer\n",
    "from gensim.models import Word2Vec\n",
    "import re\n",
    "import seaborn as sns\n"
   ]
  },
  {
   "cell_type": "code",
   "execution_count": 4,
   "metadata": {
    "executionInfo": {
     "elapsed": 1200,
     "status": "ok",
     "timestamp": 1639317456573,
     "user": {
      "displayName": "AB Z",
      "photoUrl": "https://lh3.googleusercontent.com/a/default-user=s64",
      "userId": "05269874466697670367"
     },
     "user_tz": -480
    },
    "id": "ROrHGdMPqqiZ"
   },
   "outputs": [],
   "source": [
    "train = pd.read_excel('/content/gdrive/My Drive/5002/final/Q6/train.csv.xlsx')\n",
    "test = pd.read_excel('/content/gdrive/My Drive/5002/final/Q6/test.csv.xlsx')"
   ]
  },
  {
   "cell_type": "code",
   "execution_count": 5,
   "metadata": {
    "colab": {
     "base_uri": "https://localhost:8080/",
     "height": 204
    },
    "executionInfo": {
     "elapsed": 9,
     "status": "ok",
     "timestamp": 1639305696944,
     "user": {
      "displayName": "AB Z",
      "photoUrl": "https://lh3.googleusercontent.com/a/default-user=s64",
      "userId": "05269874466697670367"
     },
     "user_tz": -480
    },
    "id": "q2bp4joNxqpE",
    "outputId": "da95dcb8-46fc-4593-d228-8e91483007c0"
   },
   "outputs": [
    {
     "data": {
      "text/html": [
       "<div>\n",
       "<style scoped>\n",
       "    .dataframe tbody tr th:only-of-type {\n",
       "        vertical-align: middle;\n",
       "    }\n",
       "\n",
       "    .dataframe tbody tr th {\n",
       "        vertical-align: top;\n",
       "    }\n",
       "\n",
       "    .dataframe thead th {\n",
       "        text-align: right;\n",
       "    }\n",
       "</style>\n",
       "<table border=\"1\" class=\"dataframe\">\n",
       "  <thead>\n",
       "    <tr style=\"text-align: right;\">\n",
       "      <th></th>\n",
       "      <th>id</th>\n",
       "      <th>keyword</th>\n",
       "      <th>location</th>\n",
       "      <th>text</th>\n",
       "      <th>target</th>\n",
       "    </tr>\n",
       "  </thead>\n",
       "  <tbody>\n",
       "    <tr>\n",
       "      <th>0</th>\n",
       "      <td>1</td>\n",
       "      <td>NaN</td>\n",
       "      <td>NaN</td>\n",
       "      <td>Our Deeds are the Reason of this #earthquake M...</td>\n",
       "      <td>1</td>\n",
       "    </tr>\n",
       "    <tr>\n",
       "      <th>1</th>\n",
       "      <td>4</td>\n",
       "      <td>NaN</td>\n",
       "      <td>NaN</td>\n",
       "      <td>Forest fire near La Ronge Sask. Canada</td>\n",
       "      <td>1</td>\n",
       "    </tr>\n",
       "    <tr>\n",
       "      <th>2</th>\n",
       "      <td>5</td>\n",
       "      <td>NaN</td>\n",
       "      <td>NaN</td>\n",
       "      <td>All residents asked to 'shelter in place' are ...</td>\n",
       "      <td>1</td>\n",
       "    </tr>\n",
       "    <tr>\n",
       "      <th>3</th>\n",
       "      <td>6</td>\n",
       "      <td>NaN</td>\n",
       "      <td>NaN</td>\n",
       "      <td>13,000 people receive #wildfires evacuation or...</td>\n",
       "      <td>1</td>\n",
       "    </tr>\n",
       "    <tr>\n",
       "      <th>4</th>\n",
       "      <td>7</td>\n",
       "      <td>NaN</td>\n",
       "      <td>NaN</td>\n",
       "      <td>Just got sent this photo from Ruby #Alaska as ...</td>\n",
       "      <td>1</td>\n",
       "    </tr>\n",
       "  </tbody>\n",
       "</table>\n",
       "</div>"
      ],
      "text/plain": [
       "   id keyword  ...                                               text target\n",
       "0   1     NaN  ...  Our Deeds are the Reason of this #earthquake M...      1\n",
       "1   4     NaN  ...             Forest fire near La Ronge Sask. Canada      1\n",
       "2   5     NaN  ...  All residents asked to 'shelter in place' are ...      1\n",
       "3   6     NaN  ...  13,000 people receive #wildfires evacuation or...      1\n",
       "4   7     NaN  ...  Just got sent this photo from Ruby #Alaska as ...      1\n",
       "\n",
       "[5 rows x 5 columns]"
      ]
     },
     "execution_count": 5,
     "metadata": {},
     "output_type": "execute_result"
    }
   ],
   "source": [
    "train.head()"
   ]
  },
  {
   "cell_type": "code",
   "execution_count": 24,
   "metadata": {
    "colab": {
     "base_uri": "https://localhost:8080/",
     "height": 204
    },
    "executionInfo": {
     "elapsed": 527,
     "status": "ok",
     "timestamp": 1639286659817,
     "user": {
      "displayName": "AB Z",
      "photoUrl": "https://lh3.googleusercontent.com/a/default-user=s64",
      "userId": "05269874466697670367"
     },
     "user_tz": -480
    },
    "id": "BhsBc1GQGTJl",
    "outputId": "366f1632-3045-47ec-8cca-2d150a142714"
   },
   "outputs": [
    {
     "data": {
      "text/html": [
       "<div>\n",
       "<style scoped>\n",
       "    .dataframe tbody tr th:only-of-type {\n",
       "        vertical-align: middle;\n",
       "    }\n",
       "\n",
       "    .dataframe tbody tr th {\n",
       "        vertical-align: top;\n",
       "    }\n",
       "\n",
       "    .dataframe thead th {\n",
       "        text-align: right;\n",
       "    }\n",
       "</style>\n",
       "<table border=\"1\" class=\"dataframe\">\n",
       "  <thead>\n",
       "    <tr style=\"text-align: right;\">\n",
       "      <th></th>\n",
       "      <th>id</th>\n",
       "      <th>keyword</th>\n",
       "      <th>location</th>\n",
       "      <th>text</th>\n",
       "    </tr>\n",
       "  </thead>\n",
       "  <tbody>\n",
       "    <tr>\n",
       "      <th>0</th>\n",
       "      <td>0</td>\n",
       "      <td>NaN</td>\n",
       "      <td>NaN</td>\n",
       "      <td>Just happened a terrible car crash</td>\n",
       "    </tr>\n",
       "    <tr>\n",
       "      <th>1</th>\n",
       "      <td>2</td>\n",
       "      <td>NaN</td>\n",
       "      <td>NaN</td>\n",
       "      <td>Heard about #earthquake is different cities, s...</td>\n",
       "    </tr>\n",
       "    <tr>\n",
       "      <th>2</th>\n",
       "      <td>3</td>\n",
       "      <td>NaN</td>\n",
       "      <td>NaN</td>\n",
       "      <td>there is a forest fire at spot pond, geese are...</td>\n",
       "    </tr>\n",
       "    <tr>\n",
       "      <th>3</th>\n",
       "      <td>9</td>\n",
       "      <td>NaN</td>\n",
       "      <td>NaN</td>\n",
       "      <td>Apocalypse lighting. #Spokane #wildfires</td>\n",
       "    </tr>\n",
       "    <tr>\n",
       "      <th>4</th>\n",
       "      <td>11</td>\n",
       "      <td>NaN</td>\n",
       "      <td>NaN</td>\n",
       "      <td>Typhoon Soudelor kills 28 in China and Taiwan</td>\n",
       "    </tr>\n",
       "  </tbody>\n",
       "</table>\n",
       "</div>"
      ],
      "text/plain": [
       "   id keyword location                                               text\n",
       "0   0     NaN      NaN                 Just happened a terrible car crash\n",
       "1   2     NaN      NaN  Heard about #earthquake is different cities, s...\n",
       "2   3     NaN      NaN  there is a forest fire at spot pond, geese are...\n",
       "3   9     NaN      NaN           Apocalypse lighting. #Spokane #wildfires\n",
       "4  11     NaN      NaN      Typhoon Soudelor kills 28 in China and Taiwan"
      ]
     },
     "execution_count": 24,
     "metadata": {},
     "output_type": "execute_result"
    }
   ],
   "source": [
    "test.head()"
   ]
  },
  {
   "cell_type": "code",
   "execution_count": 22,
   "metadata": {
    "colab": {
     "base_uri": "https://localhost:8080/"
    },
    "executionInfo": {
     "elapsed": 536,
     "status": "ok",
     "timestamp": 1639286117832,
     "user": {
      "displayName": "AB Z",
      "photoUrl": "https://lh3.googleusercontent.com/a/default-user=s64",
      "userId": "05269874466697670367"
     },
     "user_tz": -480
    },
    "id": "m635-PtYECU-",
    "outputId": "aa477db6-6fa5-4198-de6d-4be17360d644"
   },
   "outputs": [
    {
     "name": "stdout",
     "output_type": "stream",
     "text": [
      "14.978853815507202\n"
     ]
    }
   ],
   "source": [
    "#average length of sentence in test\n",
    "test_text = test['text'].values\n",
    "print(np.mean([len(i.split(' ')) for i in test_text]))"
   ]
  },
  {
   "cell_type": "code",
   "execution_count": 25,
   "metadata": {
    "colab": {
     "base_uri": "https://localhost:8080/"
    },
    "executionInfo": {
     "elapsed": 369,
     "status": "ok",
     "timestamp": 1639286756113,
     "user": {
      "displayName": "AB Z",
      "photoUrl": "https://lh3.googleusercontent.com/a/default-user=s64",
      "userId": "05269874466697670367"
     },
     "user_tz": -480
    },
    "id": "CfxA06oOGej5",
    "outputId": "35603393-ccd3-43c0-81d9-2facf96e62fa"
   },
   "outputs": [
    {
     "name": "stdout",
     "output_type": "stream",
     "text": [
      "Number of positive samples = 3271\n",
      "Number of negative samples = 4342\n"
     ]
    }
   ],
   "source": [
    "y = train['target']\n",
    "print(\"Number of positive samples = %s\" % sum(y==1))\n",
    "print(\"Number of negative samples = %s\" % sum(y==0))"
   ]
  },
  {
   "cell_type": "code",
   "execution_count": 13,
   "metadata": {
    "executionInfo": {
     "elapsed": 5,
     "status": "ok",
     "timestamp": 1639343841301,
     "user": {
      "displayName": "AB Z",
      "photoUrl": "https://lh3.googleusercontent.com/a/default-user=s64",
      "userId": "05269874466697670367"
     },
     "user_tz": -480
    },
    "id": "nnAmLZsIzXXU"
   },
   "outputs": [],
   "source": [
    "def clean_txt(text):  \n",
    "    text = re.sub(r'[^a-zA-Z]',' ',text)   \n",
    "    text = text.lower()     \n",
    "    stopwords = nltk.corpus.stopwords.words('english') \n",
    "    text = [s for s in text.replace(\"#\", \"\").replace(\",\", \"\").replace(\".\", \"\").split(' ') if s != '']\n",
    "    words_list = [w for w in text if w not in stopwords]\n",
    "    return words_list\n",
    "\n",
    "\n",
    "def get_index(sentence):\n",
    "    sequence = []\n",
    "    for word in sentence:\n",
    "        try:\n",
    "            sequence.append(word_dict[word])\n",
    "        except KeyError:\n",
    "            pass\n",
    "    return sequence\n",
    "\n",
    "def list_pad_2D(data, max_len, val):\n",
    "    tmp = []\n",
    "    for i in data:\n",
    "        if (len(i) >= max_len):\n",
    "            tmp.append(i[0:max_len])\n",
    "        else:\n",
    "            tmp.append(i + [val] * (max_len - len(i)))\n",
    "    return np.array(tmp)\n",
    "\n",
    "\n",
    "def struct_feat_process(data,feature_dim={}):\n",
    "    data = data.fillna('nan')\n",
    "    #transfer discrete feat\n",
    "    count=len(feature_dim)\n",
    "    for columnName, columnData in data.iteritems():\n",
    "      u_feat = columnData.unique()\n",
    "      for f in u_feat:\n",
    "        if f not in feature_dim.keys():\n",
    "          feature_dim[f] = count\n",
    "          count+=1\n",
    "    res=[]\n",
    "    data = data.values\n",
    "    for i in range(data.shape[0]):\n",
    "      temp=[]\n",
    "      for j in range(data.shape[1]):\n",
    "        temp.append(feature_dim[data[i,j]])\n",
    "      res.append(temp)\n",
    "    return np.array(res),feature_dim\n",
    "\n",
    "\n",
    "\n",
    "def prepocessing(aug=True):\n",
    "    train = pd.read_excel('/content/gdrive/My Drive/5002/final/Q6/train.csv.xlsx')\n",
    "    test = pd.read_excel('/content/gdrive/My Drive/5002/final/Q6/test.csv.xlsx')\n",
    "\n",
    "    train_label = train['target']\n",
    "    train_text = train['text'].values\n",
    "    test_text = test['text'].values\n",
    "    train.drop(['id','target','text'], axis=1, inplace=True)\n",
    "    test.drop(['id','text'], axis=1, inplace=True)\n",
    "\n",
    "    print('-------Deal with struct feature')\n",
    "    feature_dim={}\n",
    "    train_feat,feature_dim = struct_feat_process(train,feature_dim)\n",
    "    test_feat,feature_dim = struct_feat_process(test,feature_dim)\n",
    "    #print(train_feat)\n",
    "\n",
    "\n",
    "    for i in range(train.shape[0]):\n",
    "      train_text[i] = clean_txt(train_text[i])\n",
    "    for i in range(test.shape[0]):\n",
    "      test_text[i] = clean_txt(test_text[i])\n",
    "\n",
    "    max_len = 20\n",
    "    save_dim = 128\n",
    "\n",
    "    print(\"-------Word2vec begin\")\n",
    "\n",
    "    model = Word2Vec(sentences=np.concatenate([train_text, test_text], axis=0), size=save_dim, window=10, min_count=3, workers=multiprocessing.cpu_count(), sg=1)\n",
    "\n",
    "    model.save(\"5002final/wjy/w2v\" + \"_\" + str(save_dim) + \"_\" + str(max_len) + '.model')\n",
    "    \n",
    "    global word_dict\n",
    "    word_dict = {word: index+1 for index, word in enumerate(model.wv.vocab)}\n",
    "    word_dict[' ']=0\n",
    "\n",
    "    train_text = list_pad_2D(list(map(get_index, train_text)), max_len, 0)\n",
    "    test_text = list_pad_2D(list(map(get_index, test_text)), max_len, 0)\n",
    "    \n",
    "    print('-------Finish Transfer, Saving')\n",
    "\n",
    "    np.save(\"5002final/wjy/train_text_id_\" + \"_\" + str(save_dim) + \"_\" + str(max_len), train_text)\n",
    "    np.save(\"5002final/wjy/train_text_id_\" + \"_\" + str(save_dim) + \"_\" + str(max_len), test_text)\n",
    "    np.save(\"5002final/wjy/word_dict_\" + \"_\" + str(save_dim) + \"_\" + str(max_len), word_dict)\n",
    "\n",
    "    train = np.concatenate([train_feat, train_text], axis = 1)\n",
    "    test = np.concatenate([test_feat, test_text], axis = 1)\n",
    "    \n",
    "    #augumentation\n",
    "    #smote = SMOTE(random_state=0,sampling_strategy={1:4342}) \n",
    "    #train, train_label = smote.fit_resample(train, train_label)\n",
    "    #print(\"Number of positive samples = %s\" % sum(train_label==1))\n",
    "    #print(\"Number of negative samples = %s\" % sum(train_label==0))\n",
    "    generated=None\n",
    "    if aug:\n",
    "      train, generated, generate_label = augment(train, 300, 1)\n",
    "      x_train,x_val,y_train,y_val = train_test_split(train, np.concatenate([train_label,generate_label],axis=0), test_size = 0.1,random_state=1)\n",
    "      print(\"Number of positive samples = %s\" % str(sum(train_label==1)+300))\n",
    "    else:\n",
    "      x_train,x_val,y_train,y_val = train_test_split(train, train_label, test_size = 0.1,random_state=1)\n",
    "      print(\"Number of positive samples = %s\" % str(sum(train_label==1)))\n",
    "\n",
    "\n",
    "    print(\"Number of negative samples = %s\" % sum(train_label==0))\n",
    "\n",
    "\n",
    "    return x_train,x_val,y_train,y_val, test, model, generated, feature_dim\n",
    "\n",
    "\n",
    "def augment(data, num, label):\n",
    "    index = np.random.randint(0, high=data.shape[0]-1, size = num)\n",
    "    new_list=[]\n",
    "    for i in index:\n",
    "      new = data[i,:]\n",
    "      new[np.random.randint(1, high=20, size=3)] = 0\n",
    "      new_list.append(new)\n",
    "    new_list = np.array(new_list)\n",
    "    data = np.concatenate([data,new_list],axis=0)\n",
    "    return data, new_list, np.array([label]*num)\n"
   ]
  },
  {
   "cell_type": "markdown",
   "metadata": {
    "id": "e2iXBp853OEx"
   },
   "source": [
    "**With augmentation**"
   ]
  },
  {
   "cell_type": "code",
   "execution_count": 14,
   "metadata": {
    "colab": {
     "base_uri": "https://localhost:8080/"
    },
    "executionInfo": {
     "elapsed": 9794,
     "status": "ok",
     "timestamp": 1639343851090,
     "user": {
      "displayName": "AB Z",
      "photoUrl": "https://lh3.googleusercontent.com/a/default-user=s64",
      "userId": "05269874466697670367"
     },
     "user_tz": -480
    },
    "id": "lPGg0XdIHAxE",
    "outputId": "d90f57d9-31d3-4f48-f134-283050f4fc02"
   },
   "outputs": [
    {
     "name": "stdout",
     "output_type": "stream",
     "text": [
      "-------Deal with struct feature\n",
      "-------Word2vec begin\n",
      "-------Finish Transfer, Saving\n",
      "Number of positive samples = 3571\n",
      "Number of negative samples = 4342\n"
     ]
    }
   ],
   "source": [
    "x_train,x_val,y_train,y_val, test, w2vmodel, generated, feature_dim = prepocessing(True)\n",
    "y_train = y_train.reshape(-1,1)\n",
    "y_val = y_val.reshape(-1,1)"
   ]
  },
  {
   "cell_type": "code",
   "execution_count": 15,
   "metadata": {
    "colab": {
     "base_uri": "https://localhost:8080/"
    },
    "executionInfo": {
     "elapsed": 364,
     "status": "ok",
     "timestamp": 1639343856496,
     "user": {
      "displayName": "AB Z",
      "photoUrl": "https://lh3.googleusercontent.com/a/default-user=s64",
      "userId": "05269874466697670367"
     },
     "user_tz": -480
    },
    "id": "DQWPkv4US0oi",
    "outputId": "ee4c9a7f-960e-4bed-cdb0-4fd6931674a2"
   },
   "outputs": [
    {
     "data": {
      "text/plain": [
       "3514"
      ]
     },
     "execution_count": 15,
     "metadata": {},
     "output_type": "execute_result"
    }
   ],
   "source": [
    "max(x_train[:,1])"
   ]
  },
  {
   "cell_type": "code",
   "execution_count": 16,
   "metadata": {
    "colab": {
     "base_uri": "https://localhost:8080/"
    },
    "executionInfo": {
     "elapsed": 4,
     "status": "ok",
     "timestamp": 1639343858082,
     "user": {
      "displayName": "AB Z",
      "photoUrl": "https://lh3.googleusercontent.com/a/default-user=s64",
      "userId": "05269874466697670367"
     },
     "user_tz": -480
    },
    "id": "m8brGdm42H3p",
    "outputId": "754a99b2-7a55-42ef-acee-ce5b265c86ae"
   },
   "outputs": [
    {
     "data": {
      "text/plain": [
       "4680"
      ]
     },
     "execution_count": 16,
     "metadata": {},
     "output_type": "execute_result"
    }
   ],
   "source": [
    "len(feature_dim)"
   ]
  },
  {
   "cell_type": "code",
   "execution_count": 17,
   "metadata": {
    "executionInfo": {
     "elapsed": 555,
     "status": "ok",
     "timestamp": 1639343862123,
     "user": {
      "displayName": "AB Z",
      "photoUrl": "https://lh3.googleusercontent.com/a/default-user=s64",
      "userId": "05269874466697670367"
     },
     "user_tz": -480
    },
    "id": "bh7Ekcb3ynHW"
   },
   "outputs": [],
   "source": [
    "#Save samples\n",
    "samples=[]\n",
    "id2word=[' ']+list(w2vmodel.wv.vocab)\n",
    "for line in generated[:,-20:]:\n",
    "  samples.append([id2word[i] for i in line])\n",
    "samples = pd.DataFrame(samples)\n",
    "samples.to_csv('5002final/wjy/Q6_generated.csv', index=False, header=False)"
   ]
  },
  {
   "cell_type": "code",
   "execution_count": 5,
   "metadata": {
    "executionInfo": {
     "elapsed": 297,
     "status": "ok",
     "timestamp": 1639307121381,
     "user": {
      "displayName": "AB Z",
      "photoUrl": "https://lh3.googleusercontent.com/a/default-user=s64",
      "userId": "05269874466697670367"
     },
     "user_tz": -480
    },
    "id": "REwmmRg5H6U9"
   },
   "outputs": [],
   "source": [
    "class CombineDataset(Dataset):\n",
    "    def __init__(self, x, y, test=False):\n",
    "        self.x = x\n",
    "        self.y = y\n",
    "        self.test = test\n",
    "\n",
    "    def __getitem__(self, idx):\n",
    "        if not self.test:\n",
    "          return self.x[idx,:-20], self.x[idx,-20:], self.y[idx]\n",
    "        else:\n",
    "          return self.x[idx,:-20], self.x[idx,-20:]\n",
    "\n",
    "    def __len__(self):\n",
    "        return self.x.shape[0]"
   ]
  },
  {
   "cell_type": "code",
   "execution_count": 3,
   "metadata": {
    "executionInfo": {
     "elapsed": 377,
     "status": "ok",
     "timestamp": 1639343757908,
     "user": {
      "displayName": "AB Z",
      "photoUrl": "https://lh3.googleusercontent.com/a/default-user=s64",
      "userId": "05269874466697670367"
     },
     "user_tz": -480
    },
    "id": "hx0dSNJsHhmO"
   },
   "outputs": [],
   "source": [
    "class BiLSTMPlus(nn.Module):\n",
    "    def __init__(self, classes, vocab_size=None, emb_size=None, emb_init=None, padding_idx=0):\n",
    "        super(BiLSTMPlus, self).__init__()\n",
    "\n",
    "        if emb_init is not None:\n",
    "            if vocab_size is not None:\n",
    "                assert vocab_size == emb_init.shape[0]\n",
    "            if emb_size is not None:\n",
    "                assert emb_size == emb_init.shape[1]\n",
    "            vocab_size, emb_size = emb_init.shape\n",
    "        self.dropout = 0.1\n",
    "        self.emb_trainable = True\n",
    "        self.dim = 128\n",
    "\n",
    "        self.emb = nn.Embedding(vocab_size, emb_size, padding_idx=padding_idx, sparse=False,\n",
    "                                _weight=torch.from_numpy(emb_init).float() if emb_init is not None else None)\n",
    "        self.emb_struct = nn.Embedding(4681, self.dim)\n",
    "\n",
    "        #self.emb.weight.requires_grad = self.emb_trainable  # if save gradient?\n",
    "\n",
    "        self.lstm = nn.LSTM(emb_size, self.dim, num_layers=2, bidirectional=True, batch_first=True, dropout=0.2, bias=True)\n",
    "          \n",
    "        self.L1 = nn.Linear(self.dim*2, self.dim, bias=True)\n",
    "        self.L2 = nn.Linear(self.dim*3, self.dim, bias=True)\n",
    "        self.L3 = nn.Linear(self.dim, classes, bias=True)\n",
    "\n",
    "        nn.init.xavier_normal(self.emb_struct.weight)\n",
    "        nn.init.xavier_normal(self.L1.weight)\n",
    "        nn.init.xavier_normal(self.L2.weight)\n",
    "        nn.init.xavier_normal(self.L3.weight)\n",
    "    \n",
    "\n",
    "    def attention_net(self, x, query, mask=None): \n",
    "        d_k = query.size(-1) \n",
    "        scores = torch.matmul(query, x.transpose(1, 2)) / math.sqrt(d_k)  \n",
    "        alpha_n = F.softmax(scores, dim=-1) \n",
    "        context = torch.matmul(alpha_n, x).sum(1) \n",
    "        return context, alpha_n\n",
    "\n",
    "\n",
    "\n",
    "    def forward(self, struct_data, text ):\n",
    "        embe_out = self.emb(text)  # (batch, sent_len, embed_dim)\n",
    "        lstm_output, _ = self.lstm(embe_out)\n",
    "        attn_output,_ = self.attention_net(lstm_output, lstm_output)\n",
    "        logits = self.L1(attn_output)\n",
    "\n",
    "        struct_emb = self.emb_struct(struct_data)\n",
    "        logits = F.relu(self.L2(torch.cat([logits, struct_emb.reshape(logits.shape[0],-1)],axis=1)))\n",
    "        logits = self.L3(logits)\n",
    "        \n",
    "        return logits"
   ]
  },
  {
   "cell_type": "code",
   "execution_count": 7,
   "metadata": {
    "executionInfo": {
     "elapsed": 2,
     "status": "ok",
     "timestamp": 1639307123299,
     "user": {
      "displayName": "AB Z",
      "photoUrl": "https://lh3.googleusercontent.com/a/default-user=s64",
      "userId": "05269874466697670367"
     },
     "user_tz": -480
    },
    "id": "U4t8unpEXlRW"
   },
   "outputs": [],
   "source": [
    "def train(model, train_loader, optimizer,  criterion, device, batch_size):\n",
    "    model.train()\n",
    "    l = []\n",
    "    #print(1)\n",
    "    for step, batch in enumerate(train_loader):\n",
    "        optimizer.zero_grad()\n",
    "        struct_data, text, y = batch\n",
    "        \n",
    "        #print(max(user))\n",
    "        struct_data = struct_data.long()\n",
    "        text = text.long()\n",
    "        y = y.long()\n",
    "        struct_data = struct_data.to(device)\n",
    "        text = text.to(device)\n",
    "        y = y.to(device)\n",
    "\n",
    "        logits = model(struct_data, text)\n",
    "        loss = criterion(logits, y.squeeze(1))\n",
    "        l.append(loss.item())\n",
    "            \n",
    "      \n",
    "        loss.backward()\n",
    "        optimizer.step()\n",
    "    \n",
    "    return np.mean(l)\n"
   ]
  },
  {
   "cell_type": "code",
   "execution_count": 8,
   "metadata": {
    "executionInfo": {
     "elapsed": 5,
     "status": "ok",
     "timestamp": 1639307123784,
     "user": {
      "displayName": "AB Z",
      "photoUrl": "https://lh3.googleusercontent.com/a/default-user=s64",
      "userId": "05269874466697670367"
     },
     "user_tz": -480
    },
    "id": "RY3lkzseYDC0"
   },
   "outputs": [],
   "source": [
    "def evaluation(model, val_loader, batch_size):\n",
    "  preds = []\n",
    "  probs = []\n",
    "  y_list=[]\n",
    "  for i,batch in enumerate(val_loader):\n",
    "      #print(1) \n",
    "      struct_data, text, y = batch      \n",
    "      struct_data = struct_data.long()\n",
    "      text = text.long()\n",
    "      y = y.long()\n",
    "      struct_data = struct_data.to(device)\n",
    "      text = text.to(device)\n",
    "      y_list.append(y.numpy())\n",
    "      with torch.no_grad():\n",
    "        outputs = model(struct_data, text)\n",
    "        probabilities = F.softmax(outputs.cpu(), dim=1)\n",
    "        _, pred = torch.max(probabilities, dim=1)\n",
    "        probs.append(probabilities.tolist())\n",
    "        preds.append(pred)\n",
    "  return np.concatenate(preds,axis=0), np.concatenate(probs,axis=0), np.array([i for i in np.concatenate(y_list,axis=0)])"
   ]
  },
  {
   "cell_type": "code",
   "execution_count": 18,
   "metadata": {
    "executionInfo": {
     "elapsed": 467,
     "status": "ok",
     "timestamp": 1639343872873,
     "user": {
      "displayName": "AB Z",
      "photoUrl": "https://lh3.googleusercontent.com/a/default-user=s64",
      "userId": "05269874466697670367"
     },
     "user_tz": -480
    },
    "id": "NvuA4xZiYCZa"
   },
   "outputs": [],
   "source": [
    "emb_weight = w2vmodel.wv.vectors\n",
    "vocab_size, emb_size_doc = emb_weight.shape\n",
    "device = torch.device(\"cuda:0\" if torch.cuda.is_available() else \"cpu\")\n",
    "criterion = nn.CrossEntropyLoss().to(device)\n",
    "model = BiLSTMPlus(2, vocab_size, emb_size_doc, emb_weight).to(device)\n",
    "optimizer = torch.optim.Adam(model.parameters(), lr=0.00005, betas=(0.9, 0.999), eps=1e-08, weight_decay=0.001, amsgrad=False)\n",
    "batch_size = 256"
   ]
  },
  {
   "cell_type": "code",
   "execution_count": 19,
   "metadata": {
    "colab": {
     "base_uri": "https://localhost:8080/"
    },
    "executionInfo": {
     "elapsed": 534,
     "status": "ok",
     "timestamp": 1639343878871,
     "user": {
      "displayName": "AB Z",
      "photoUrl": "https://lh3.googleusercontent.com/a/default-user=s64",
      "userId": "05269874466697670367"
     },
     "user_tz": -480
    },
    "id": "VTWUnUpBgF7r",
    "outputId": "38bd7f87-5286-4518-83f6-2185dadcd377"
   },
   "outputs": [
    {
     "data": {
      "text/plain": [
       "BiLSTMPlus(\n",
       "  (emb): Embedding(5889, 128, padding_idx=0)\n",
       "  (emb_struct): Embedding(4681, 128)\n",
       "  (lstm): LSTM(128, 128, num_layers=2, batch_first=True, dropout=0.2, bidirectional=True)\n",
       "  (L1): Linear(in_features=256, out_features=128, bias=True)\n",
       "  (L2): Linear(in_features=384, out_features=128, bias=True)\n",
       "  (L3): Linear(in_features=128, out_features=2, bias=True)\n",
       ")"
      ]
     },
     "execution_count": 19,
     "metadata": {},
     "output_type": "execute_result"
    }
   ],
   "source": [
    "model"
   ]
  },
  {
   "cell_type": "code",
   "execution_count": 23,
   "metadata": {
    "executionInfo": {
     "elapsed": 6,
     "status": "ok",
     "timestamp": 1639306968840,
     "user": {
      "displayName": "AB Z",
      "photoUrl": "https://lh3.googleusercontent.com/a/default-user=s64",
      "userId": "05269874466697670367"
     },
     "user_tz": -480
    },
    "id": "s0sS_-8mZuHc"
   },
   "outputs": [],
   "source": [
    "train_dataset = CombineDataset(x_train, y_train, False)\n",
    "train_loader = DataLoader(train_dataset, batch_size=batch_size, shuffle=False, drop_last=False)\n",
    "val_dataset = CombineDataset(x_val, y_val, False)\n",
    "val_loader = DataLoader(val_dataset, batch_size=batch_size, shuffle=False, drop_last=False)"
   ]
  },
  {
   "cell_type": "code",
   "execution_count": 24,
   "metadata": {
    "colab": {
     "base_uri": "https://localhost:8080/"
    },
    "executionInfo": {
     "elapsed": 2,
     "status": "ok",
     "timestamp": 1639306969133,
     "user": {
      "displayName": "AB Z",
      "photoUrl": "https://lh3.googleusercontent.com/a/default-user=s64",
      "userId": "05269874466697670367"
     },
     "user_tz": -480
    },
    "id": "LBMnQh9bGuiT",
    "outputId": "4c5fe2c7-696b-41d5-f49c-5ebedfdd266e"
   },
   "outputs": [
    {
     "data": {
      "text/plain": [
       "(7121, 22)"
      ]
     },
     "execution_count": 24,
     "metadata": {},
     "output_type": "execute_result"
    }
   ],
   "source": [
    "x_train.shape"
   ]
  },
  {
   "cell_type": "code",
   "execution_count": 25,
   "metadata": {
    "colab": {
     "base_uri": "https://localhost:8080/"
    },
    "executionInfo": {
     "elapsed": 42536,
     "status": "ok",
     "timestamp": 1639307012053,
     "user": {
      "displayName": "AB Z",
      "photoUrl": "https://lh3.googleusercontent.com/a/default-user=s64",
      "userId": "05269874466697670367"
     },
     "user_tz": -480
    },
    "id": "6ijIbPnYaMqK",
    "outputId": "680bfeca-a84b-49ca-f70b-0a289884ac39"
   },
   "outputs": [
    {
     "name": "stdout",
     "output_type": "stream",
     "text": [
      "Epoch: 0, loss: 0.68885\n",
      "Epoch: 5, loss: 0.64494\n",
      "Epoch: 10, loss: 0.61810\n",
      "Epoch: 15, loss: 0.57425\n",
      "Epoch: 20, loss: 0.52452\n",
      "Epoch: 25, loss: 0.47639\n",
      "Epoch: 30, loss: 0.40070\n",
      "Epoch: 35, loss: 0.30779\n",
      "Epoch: 40, loss: 0.23354\n",
      "Epoch: 45, loss: 0.17562\n",
      "Epoch: 50, loss: 0.13862\n",
      "Epoch: 55, loss: 0.15972\n",
      "Epoch: 60, loss: 0.10887\n",
      "Epoch: 65, loss: 0.09779\n",
      "Epoch: 70, loss: 0.09112\n",
      "Epoch: 75, loss: 0.09522\n",
      "Epoch: 80, loss: 0.10668\n",
      "Epoch: 85, loss: 0.07577\n",
      "Epoch: 90, loss: 0.07286\n",
      "Epoch: 95, loss: 0.07035\n"
     ]
    }
   ],
   "source": [
    "count=0\n",
    "l=[]\n",
    "for e in range(100):\n",
    "  loss = train(model, train_loader, optimizer, criterion, device, batch_size)\n",
    "  if e==0:\n",
    "    last=loss\n",
    "  else:\n",
    "    pre=loss\n",
    "    if (last-pre)/last <=0.01:\n",
    "      count+=1\n",
    "    if count==5:\n",
    "      l.append(loss)\n",
    "      print(\"Final loss: %1.5f\" % (loss))\n",
    "      break\n",
    "  if e % 5 == 0:\n",
    "      l.append(loss)\n",
    "      print(\"Epoch: %d, loss: %1.5f\" % (e, loss)) "
   ]
  },
  {
   "cell_type": "code",
   "execution_count": 26,
   "metadata": {
    "colab": {
     "base_uri": "https://localhost:8080/",
     "height": 279
    },
    "executionInfo": {
     "elapsed": 358,
     "status": "ok",
     "timestamp": 1639307013747,
     "user": {
      "displayName": "AB Z",
      "photoUrl": "https://lh3.googleusercontent.com/a/default-user=s64",
      "userId": "05269874466697670367"
     },
     "user_tz": -480
    },
    "id": "je42QGEOaS_q",
    "outputId": "933a7386-e6f0-443b-c056-41caa196c16d"
   },
   "outputs": [
    {
     "data": {
      "image/png": "[encoded data removed]",
      "text/plain": [
       "<Figure size 432x288 with 1 Axes>"
      ]
     },
     "metadata": {
      "needs_background": "light"
     },
     "output_type": "display_data"
    }
   ],
   "source": [
    "plt.xlabel(\"iteration\")\n",
    "plt.ylabel(\"loss\")\n",
    "plt.plot(range(0,100,5), l)\n",
    "plt.show()"
   ]
  },
  {
   "cell_type": "code",
   "execution_count": 27,
   "metadata": {
    "colab": {
     "base_uri": "https://localhost:8080/",
     "height": 659
    },
    "executionInfo": {
     "elapsed": 404,
     "status": "ok",
     "timestamp": 1639307017042,
     "user": {
      "displayName": "AB Z",
      "photoUrl": "https://lh3.googleusercontent.com/a/default-user=s64",
      "userId": "05269874466697670367"
     },
     "user_tz": -480
    },
    "id": "ndiRR2RLgMjk",
    "outputId": "a8b45a2c-4ce1-4166-dba0-1c81a8aa7131"
   },
   "outputs": [
    {
     "name": "stdout",
     "output_type": "stream",
     "text": [
      "              precision    recall  f1-score   support\n",
      "\n",
      "           0       0.73      0.76      0.74       423\n",
      "           1       0.71      0.67      0.69       369\n",
      "\n",
      "    accuracy                           0.72       792\n",
      "   macro avg       0.72      0.71      0.71       792\n",
      "weighted avg       0.72      0.72      0.72       792\n",
      "\n"
     ]
    },
    {
     "data": {
      "image/png": "[encoded data removed]",
      "text/plain": [
       "<Figure size 576x576 with 2 Axes>"
      ]
     },
     "metadata": {
      "needs_background": "light"
     },
     "output_type": "display_data"
    }
   ],
   "source": [
    "preds, probs, y_true = evaluation(model, val_loader, batch_size)\n",
    "acc = accuracy_score(y_true, preds)\n",
    "classification_report(y_true, preds)\n",
    " \n",
    " #peint calssification report\n",
    "print(classification_report(y_true, preds))\n",
    " \n",
    " #build confusion matrix\n",
    "con_mat = confusion_matrix(y_true, preds, labels=range(2))\n",
    "con_mat_norm = con_mat.astype('float') / con_mat.sum(axis=1)[:, np.newaxis] # normalization\n",
    "con_mat_norm = np.around(con_mat_norm, decimals=2)\n",
    " #plot confusion matrix\n",
    "plt.figure(figsize=(8, 8))\n",
    "sns.heatmap(con_mat_norm, annot=True, cmap='Blues')\n",
    "plt.ylim(0, 2)\n",
    "plt.xlabel('Predicted labels')\n",
    "plt.ylabel('True labels')\n",
    "plt.show()"
   ]
  },
  {
   "cell_type": "code",
   "execution_count": 28,
   "metadata": {
    "colab": {
     "base_uri": "https://localhost:8080/",
     "height": 334
    },
    "executionInfo": {
     "elapsed": 450,
     "status": "ok",
     "timestamp": 1639307020537,
     "user": {
      "displayName": "AB Z",
      "photoUrl": "https://lh3.googleusercontent.com/a/default-user=s64",
      "userId": "05269874466697670367"
     },
     "user_tz": -480
    },
    "id": "H5zJRG2VgiJE",
    "outputId": "cc44c0ca-766d-4eed-ab32-ebe61b256325"
   },
   "outputs": [
    {
     "data": {
      "image/png": "[encoded data removed]",
      "text/plain": [
       "<Figure size 576x360 with 1 Axes>"
      ]
     },
     "metadata": {
      "needs_background": "light"
     },
     "output_type": "display_data"
    }
   ],
   "source": [
    "y_true = F.one_hot(torch.tensor(y_val, dtype=torch.long), num_classes = 2)\n",
    "y_true = np.array(y_true).reshape(y_true.shape[0],-1)\n",
    "\n",
    "plt.figure(figsize=(8, 5))\n",
    "colors = ['darkorange', 'cornflowerblue']\n",
    "fpr, tpr, roc_auc = dict(), dict(), dict()\n",
    "for i in range(2):\n",
    "    fpr[i], tpr[i], threshold = roc_curve(y_true[:, i], probs[:, i])\n",
    "    roc_auc[i] = auc(fpr[i], tpr[i])\n",
    "    plt.plot(fpr[i], tpr[i], color=colors[i], label='ROC curve of class %d (area = %.3f)' % (i,roc_auc[i]))\n",
    "                \n",
    "plt.plot([0, 1], [0, 1], color='navy', lw=2, linestyle='--')\n",
    "plt.xlim([0.0, 1.0])\n",
    "plt.ylim([0.0, 1.05])\n",
    "plt.xlabel('False Positive Rate')\n",
    "plt.ylabel('True Positive Rate')\n",
    "plt.legend(loc=\"lower right\")\n",
    "plt.show()"
   ]
  },
  {
   "cell_type": "code",
   "execution_count": null,
   "metadata": {
    "id": "F-sDjibT51uK"
   },
   "outputs": [],
   "source": []
  },
  {
   "cell_type": "markdown",
   "metadata": {
    "id": "TPlaTBm752KD"
   },
   "source": [
    "**Without augmentation**"
   ]
  },
  {
   "cell_type": "code",
   "execution_count": 12,
   "metadata": {
    "colab": {
     "base_uri": "https://localhost:8080/"
    },
    "executionInfo": {
     "elapsed": 6108,
     "status": "ok",
     "timestamp": 1639307165932,
     "user": {
      "displayName": "AB Z",
      "photoUrl": "https://lh3.googleusercontent.com/a/default-user=s64",
      "userId": "05269874466697670367"
     },
     "user_tz": -480
    },
    "id": "2dkeNP8S59BA",
    "outputId": "55780959-41bb-4fac-e7cd-82aaec6eeaaa"
   },
   "outputs": [
    {
     "name": "stdout",
     "output_type": "stream",
     "text": [
      "-------Deal with struct feature\n",
      "-------Word2vec begin\n",
      "-------Finish Transfer, Saving\n",
      "Number of positive samples = 3271\n",
      "Number of negative samples = 4342\n"
     ]
    }
   ],
   "source": [
    "x_train,x_val,y_train,y_val, test, w2vmodel, generated, feature_dim = prepocessing(False)\n",
    "y_train = y_train.values.reshape(-1,1)\n",
    "y_val = y_val.values.reshape(-1,1)"
   ]
  },
  {
   "cell_type": "code",
   "execution_count": 18,
   "metadata": {
    "colab": {
     "base_uri": "https://localhost:8080/"
    },
    "executionInfo": {
     "elapsed": 322,
     "status": "ok",
     "timestamp": 1639303296115,
     "user": {
      "displayName": "AB Z",
      "photoUrl": "https://lh3.googleusercontent.com/a/default-user=s64",
      "userId": "05269874466697670367"
     },
     "user_tz": -480
    },
    "id": "k7Qs0GQv8bfN",
    "outputId": "6c5ccfba-f797-4d43-ea8f-0de16fc7bd23"
   },
   "outputs": [
    {
     "data": {
      "text/plain": [
       "(3263, 22)"
      ]
     },
     "execution_count": 18,
     "metadata": {},
     "output_type": "execute_result"
    }
   ],
   "source": [
    "test.shape"
   ]
  },
  {
   "cell_type": "code",
   "execution_count": 13,
   "metadata": {
    "executionInfo": {
     "elapsed": 306,
     "status": "ok",
     "timestamp": 1639307167793,
     "user": {
      "displayName": "AB Z",
      "photoUrl": "https://lh3.googleusercontent.com/a/default-user=s64",
      "userId": "05269874466697670367"
     },
     "user_tz": -480
    },
    "id": "7VRjkphh6JbD"
   },
   "outputs": [],
   "source": [
    "emb_weight = w2vmodel.wv.vectors\n",
    "vocab_size, emb_size_doc = emb_weight.shape\n",
    "device = torch.device(\"cuda:0\" if torch.cuda.is_available() else \"cpu\")\n",
    "criterion = nn.CrossEntropyLoss().to(device)\n",
    "model = BiLSTMPlus(2, vocab_size, emb_size_doc, emb_weight).to(device)\n",
    "optimizer = torch.optim.Adam(model.parameters(), lr=0.00005, betas=(0.9, 0.999), eps=1e-08, weight_decay=0.001, amsgrad=False)\n",
    "batch_size = 256"
   ]
  },
  {
   "cell_type": "code",
   "execution_count": 14,
   "metadata": {
    "executionInfo": {
     "elapsed": 370,
     "status": "ok",
     "timestamp": 1639307169440,
     "user": {
      "displayName": "AB Z",
      "photoUrl": "https://lh3.googleusercontent.com/a/default-user=s64",
      "userId": "05269874466697670367"
     },
     "user_tz": -480
    },
    "id": "Qgre2_HK6OZ4"
   },
   "outputs": [],
   "source": [
    "train_dataset = CombineDataset(x_train, y_train)\n",
    "train_loader = DataLoader(train_dataset, batch_size=batch_size, shuffle=False, drop_last=False)\n",
    "val_dataset = CombineDataset(x_val, y_val)\n",
    "val_loader = DataLoader(val_dataset, batch_size=batch_size, shuffle=False, drop_last=False)"
   ]
  },
  {
   "cell_type": "code",
   "execution_count": 15,
   "metadata": {
    "colab": {
     "base_uri": "https://localhost:8080/"
    },
    "executionInfo": {
     "elapsed": 41185,
     "status": "ok",
     "timestamp": 1639307216406,
     "user": {
      "displayName": "AB Z",
      "photoUrl": "https://lh3.googleusercontent.com/a/default-user=s64",
      "userId": "05269874466697670367"
     },
     "user_tz": -480
    },
    "id": "kTcjICQg6Ohi",
    "outputId": "01e3c13d-e5be-40a0-a7d7-7fdd8655096a"
   },
   "outputs": [
    {
     "name": "stdout",
     "output_type": "stream",
     "text": [
      "Epoch: 0, loss: 0.74595\n",
      "Epoch: 5, loss: 0.63915\n",
      "Epoch: 10, loss: 0.61299\n",
      "Epoch: 15, loss: 0.56740\n",
      "Epoch: 20, loss: 0.47930\n",
      "Epoch: 25, loss: 0.32642\n",
      "Epoch: 30, loss: 0.23443\n",
      "Epoch: 35, loss: 0.16205\n",
      "Epoch: 40, loss: 0.11902\n",
      "Epoch: 45, loss: 0.12803\n",
      "Epoch: 50, loss: 0.10558\n",
      "Epoch: 55, loss: 0.13011\n",
      "Epoch: 60, loss: 0.06358\n",
      "Epoch: 65, loss: 0.05625\n",
      "Epoch: 70, loss: 0.05237\n",
      "Epoch: 75, loss: 0.04930\n",
      "Epoch: 80, loss: 0.04767\n",
      "Epoch: 85, loss: 0.04356\n",
      "Epoch: 90, loss: 0.04133\n",
      "Epoch: 95, loss: 0.03934\n"
     ]
    }
   ],
   "source": [
    "count=0\n",
    "l=[]\n",
    "for e in range(100):\n",
    "  loss = train(model, train_loader, optimizer, criterion, device, batch_size)\n",
    "  if e==0:\n",
    "    last=loss\n",
    "  else:\n",
    "    pre=loss\n",
    "    if (last-pre)/last <=0.01:\n",
    "      count+=1\n",
    "    if count==5:\n",
    "      l.append(loss)\n",
    "      print(\"Final loss: %1.5f\" % (loss))\n",
    "      break\n",
    "  if e % 5 == 0:\n",
    "      l.append(loss)\n",
    "      print(\"Epoch: %d, loss: %1.5f\" % (e, loss)) "
   ]
  },
  {
   "cell_type": "code",
   "execution_count": 16,
   "metadata": {
    "colab": {
     "base_uri": "https://localhost:8080/",
     "height": 279
    },
    "executionInfo": {
     "elapsed": 360,
     "status": "ok",
     "timestamp": 1639307221142,
     "user": {
      "displayName": "AB Z",
      "photoUrl": "https://lh3.googleusercontent.com/a/default-user=s64",
      "userId": "05269874466697670367"
     },
     "user_tz": -480
    },
    "id": "R8DsCfuS6Ok-",
    "outputId": "3c0f3991-a5a5-4eb9-d9f4-908b932cb97f"
   },
   "outputs": [
    {
     "data": {
      "image/png": "[encoded data removed]",
      "text/plain": [
       "<Figure size 432x288 with 1 Axes>"
      ]
     },
     "metadata": {
      "needs_background": "light"
     },
     "output_type": "display_data"
    }
   ],
   "source": [
    "plt.xlabel(\"iteration\")\n",
    "plt.ylabel(\"loss\")\n",
    "plt.plot(range(0,100,5), l)\n",
    "plt.show()"
   ]
  },
  {
   "cell_type": "code",
   "execution_count": 19,
   "metadata": {
    "colab": {
     "base_uri": "https://localhost:8080/",
     "height": 663
    },
    "executionInfo": {
     "elapsed": 397,
     "status": "ok",
     "timestamp": 1639307254166,
     "user": {
      "displayName": "AB Z",
      "photoUrl": "https://lh3.googleusercontent.com/a/default-user=s64",
      "userId": "05269874466697670367"
     },
     "user_tz": -480
    },
    "id": "l3bUs3-g6e_O",
    "outputId": "728a045a-b4fd-4032-ab41-fdd667a282b2"
   },
   "outputs": [
    {
     "name": "stdout",
     "output_type": "stream",
     "text": [
      "              precision    recall  f1-score   support\n",
      "\n",
      "           0       0.76      0.80      0.78       438\n",
      "           1       0.71      0.66      0.69       324\n",
      "\n",
      "    accuracy                           0.74       762\n",
      "   macro avg       0.74      0.73      0.74       762\n",
      "weighted avg       0.74      0.74      0.74       762\n",
      "\n"
     ]
    },
    {
     "data": {
      "image/png": "[encoded data removed]",
      "text/plain": [
       "<Figure size 576x576 with 2 Axes>"
      ]
     },
     "metadata": {
      "needs_background": "light"
     },
     "output_type": "display_data"
    }
   ],
   "source": [
    "preds, probs, y_true = evaluation(model, val_loader, batch_size)\n",
    "acc = accuracy_score(y_true, preds)\n",
    "classification_report(y_true, preds)\n",
    " \n",
    " #peint calssification report\n",
    "print(classification_report(y_true, preds))\n",
    " \n",
    " #build confusion matrix\n",
    "con_mat = confusion_matrix(y_true, preds, labels=range(2))\n",
    "con_mat_norm = con_mat.astype('float') / con_mat.sum(axis=1)[:, np.newaxis] # normalization\n",
    "con_mat_norm = np.around(con_mat_norm, decimals=2)\n",
    " #plot confusion matrix\n",
    "plt.figure(figsize=(8, 8))\n",
    "sns.heatmap(con_mat_norm, annot=True, cmap='Blues')\n",
    "plt.ylim(0, 2)\n",
    "plt.xlabel('Predicted labels')\n",
    "plt.ylabel('True labels')\n",
    "plt.show()"
   ]
  },
  {
   "cell_type": "code",
   "execution_count": 20,
   "metadata": {
    "colab": {
     "base_uri": "https://localhost:8080/",
     "height": 334
    },
    "executionInfo": {
     "elapsed": 547,
     "status": "ok",
     "timestamp": 1639307261957,
     "user": {
      "displayName": "AB Z",
      "photoUrl": "https://lh3.googleusercontent.com/a/default-user=s64",
      "userId": "05269874466697670367"
     },
     "user_tz": -480
    },
    "id": "lYQLEzy56fzl",
    "outputId": "e18e8551-e039-49b2-b031-a0469af88668"
   },
   "outputs": [
    {
     "data": {
      "image/png": "[encoded data removed]",
      "text/plain": [
       "<Figure size 576x360 with 1 Axes>"
      ]
     },
     "metadata": {
      "needs_background": "light"
     },
     "output_type": "display_data"
    }
   ],
   "source": [
    "y_true = F.one_hot(torch.tensor(y_val, dtype=torch.long), num_classes = 2)\n",
    "y_true = np.array(y_true).reshape(y_true.shape[0],-1)\n",
    "\n",
    "plt.figure(figsize=(8, 5))\n",
    "colors = ['darkorange', 'cornflowerblue']\n",
    "fpr, tpr, roc_auc = dict(), dict(), dict()\n",
    "for i in range(2):\n",
    "    fpr[i], tpr[i], threshold = roc_curve(y_true[:, i], probs[:, i])\n",
    "    roc_auc[i] = auc(fpr[i], tpr[i])\n",
    "    plt.plot(fpr[i], tpr[i], color=colors[i], label='ROC curve of class %d (area = %.3f)' % (i,roc_auc[i]))\n",
    "                \n",
    "plt.plot([0, 1], [0, 1], color='navy', lw=2, linestyle='--')\n",
    "plt.xlim([0.0, 1.0])\n",
    "plt.ylim([0.0, 1.05])\n",
    "plt.xlabel('False Positive Rate')\n",
    "plt.ylabel('True Positive Rate')\n",
    "plt.legend(loc=\"lower right\")\n",
    "plt.show()"
   ]
  },
  {
   "cell_type": "code",
   "execution_count": null,
   "metadata": {
    "id": "yZJuIVXt6nCn"
   },
   "outputs": [],
   "source": []
  },
  {
   "cell_type": "code",
   "execution_count": null,
   "metadata": {
    "id": "nl-V7isw7ZNe"
   },
   "outputs": [],
   "source": []
  }
 ],
 "metadata": {
  "colab": {
   "authorship_tag": "ABX9TyMRO3v+le3TURqYcwaSp6Ow",
   "collapsed_sections": [],
   "name": "Q6.ipynb",
   "provenance": []
  },
  "kernelspec": {
   "display_name": "Python 3",
   "language": "python",
   "name": "python3"
  },
  "language_info": {
   "codemirror_mode": {
    "name": "ipython",
    "version": 3
   },
   "file_extension": ".py",
   "mimetype": "text/x-python",
   "name": "python",
   "nbconvert_exporter": "python",
   "pygments_lexer": "ipython3",
   "version": "3.7.3"
  }
 },
 "nbformat": 4,
 "nbformat_minor": 1
}
