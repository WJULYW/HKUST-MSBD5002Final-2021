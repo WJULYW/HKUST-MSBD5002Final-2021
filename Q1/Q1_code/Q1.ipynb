{
 "cells": [
  {
   "cell_type": "code",
   "execution_count": 2,
   "id": "empirical-croatia",
   "metadata": {},
   "outputs": [],
   "source": [
    "import networkx as nx\n",
    "graph = nx.Graph()\n",
    "with open(\"email-Eu-core.txt\", \"r\") as f:\n",
    "    for line in f.readlines():\n",
    "        line = line.strip('\\n')\n",
    "        line = line.split(' ')\n",
    "        graph.add_edge(int(line[0]),int(line[1]))"
   ]
  },
  {
   "cell_type": "code",
   "execution_count": 3,
   "id": "moderate-handle",
   "metadata": {},
   "outputs": [],
   "source": [
    "from karateclub import EgoNetSplitter\n",
    "from sklearn.metrics.cluster import normalized_mutual_info_score as mi\n",
    "spliter = EgoNetSplitter()\n",
    "spliter.fit(graph)\n",
    "cluster = spliter.get_memberships()"
   ]
  },
  {
   "cell_type": "code",
   "execution_count": 6,
   "id": "demonstrated-farmer",
   "metadata": {},
   "outputs": [],
   "source": [
    "cluster_dic = {}\n",
    "for i in cluster:\n",
    "    cluster_dic[i] = cluster[i][0]"
   ]
  },
  {
   "cell_type": "code",
   "execution_count": 7,
   "id": "opposed-encyclopedia",
   "metadata": {},
   "outputs": [],
   "source": [
    "data = {}\n",
    "with open('email-Eu-core-department-labels.txt','r') as f:\n",
    "    lines = f.readlines()\n",
    "    for line in lines:\n",
    "        line = line.strip('\\n')\n",
    "        line = line.split(' ')\n",
    "        i = int(line[0])\n",
    "        l = int(line[1])\n",
    "        data[i] = l"
   ]
  },
  {
   "cell_type": "code",
   "execution_count": 8,
   "id": "romantic-jungle",
   "metadata": {},
   "outputs": [],
   "source": [
    "y_pred = []\n",
    "y_true = []\n",
    "for i in range(len(graph.nodes)):\n",
    "    y_pred.append(cluster_dic[i])\n",
    "    y_true.append(data[i])"
   ]
  },
  {
   "cell_type": "code",
   "execution_count": 10,
   "id": "raising-affair",
   "metadata": {
    "scrolled": true
   },
   "outputs": [
    {
     "data": {
      "text/plain": [
       "0.5997835003074834"
      ]
     },
     "execution_count": 10,
     "metadata": {},
     "output_type": "execute_result"
    }
   ],
   "source": [
    "mi(y_pred, y_true)"
   ]
  },
  {
   "cell_type": "code",
   "execution_count": null,
   "id": "quarterly-employer",
   "metadata": {},
   "outputs": [],
   "source": [
    "new=[list(i) for i in data]\n",
    "new=pd.DataFrame(new,columns=['node_id','department_id'])\n",
    "new['department_id']=y_pred\n",
    "new.to_csv('Q1_output.csv')"
   ]
  },
  {
   "cell_type": "code",
   "execution_count": null,
   "id": "sublime-scheduling",
   "metadata": {},
   "outputs": [],
   "source": []
  }
 ],
 "metadata": {
  "kernelspec": {
   "display_name": "Python 3",
   "language": "python",
   "name": "python3"
  },
  "language_info": {
   "codemirror_mode": {
    "name": "ipython",
    "version": 3
   },
   "file_extension": ".py",
   "mimetype": "text/x-python",
   "name": "python",
   "nbconvert_exporter": "python",
   "pygments_lexer": "ipython3",
   "version": "3.7.3"
  }
 },
 "nbformat": 4,
 "nbformat_minor": 5
}
